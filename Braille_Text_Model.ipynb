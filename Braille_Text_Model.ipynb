{
  "nbformat": 4,
  "nbformat_minor": 0,
  "metadata": {
    "colab": {
      "provenance": [],
      "mount_file_id": "1hrs6_2jKC_YAIXbyj63qiBM6cN4BrS2x",
      "authorship_tag": "ABX9TyO1utMLiXVwFXfXco5M+r+3",
      "include_colab_link": true
    },
    "kernelspec": {
      "name": "python3",
      "display_name": "Python 3"
    },
    "language_info": {
      "name": "python"
    },
    "accelerator": "GPU",
    "gpuClass": "standard"
  },
  "cells": [
    {
      "cell_type": "markdown",
      "metadata": {
        "id": "view-in-github",
        "colab_type": "text"
      },
      "source": [
        "<a href=\"https://colab.research.google.com/github/basilpaul7/Bi-Directional-Braille-Communication/blob/main/Braille_Text_Model.ipynb\" target=\"_parent\"><img src=\"https://colab.research.google.com/assets/colab-badge.svg\" alt=\"Open In Colab\"/></a>"
      ]
    },
    {
      "cell_type": "code",
      "execution_count": null,
      "metadata": {
        "colab": {
          "base_uri": "https://localhost:8080/"
        },
        "id": "TxlNll2H4Gvv",
        "outputId": "eb619074-a64b-4271-b2ed-ea994ae2ecd8"
      },
      "outputs": [
        {
          "output_type": "stream",
          "name": "stdout",
          "text": [
            "Drive already mounted at /content/drive; to attempt to forcibly remount, call drive.mount(\"/content/drive\", force_remount=True).\n"
          ]
        }
      ],
      "source": [
        "from google.colab import drive\n",
        "drive.mount('/content/drive')"
      ]
    },
    {
      "cell_type": "code",
      "source": [
        "import os\n",
        "import numpy as np\n",
        "import pandas as pd\n",
        "from shutil import copyfile"
      ],
      "metadata": {
        "id": "VlIYZBGX4bqN"
      },
      "execution_count": null,
      "outputs": []
    },
    {
      "cell_type": "code",
      "source": [
        "os.mkdir('./images/')\n",
        "alpha = 'a'\n",
        "for i in range(0, 26): \n",
        "    os.mkdir('./images/' + alpha)\n",
        "    alpha = chr(ord(alpha) + 1)\n",
        "\n",
        "rootdir = '/content/drive/MyDrive/Personal/Main Project/Braille Dataset/'\n",
        "for file in os.listdir(rootdir):\n",
        "    letter = file[0]\n",
        "    copyfile(rootdir+file, './images/' + letter + '/' + file)\n",
        "    print(letter)\n",
        "    print(file)"
      ],
      "metadata": {
        "id": "Jn87mOoM4e70"
      },
      "execution_count": null,
      "outputs": []
    },
    {
      "cell_type": "code",
      "source": [
        "from keras.preprocessing.image import ImageDataGenerator\n",
        "datagen = ImageDataGenerator(rotation_range=20,\n",
        "                             shear_range=10,\n",
        "                             validation_split=0.2)\n",
        "\n",
        "train_generator = datagen.flow_from_directory('./images/',\n",
        "                                              target_size=(28,28),\n",
        "                                              subset='training')\n",
        "\n",
        "val_generator = datagen.flow_from_directory('./images/',\n",
        "                                            target_size=(28,28),\n",
        "                                            subset='validation')"
      ],
      "metadata": {
        "colab": {
          "base_uri": "https://localhost:8080/"
        },
        "id": "MgtDwpcy49sn",
        "outputId": "79b7d3fd-e057-4b62-b71f-02ddc946ff40"
      },
      "execution_count": null,
      "outputs": [
        {
          "output_type": "stream",
          "name": "stdout",
          "text": [
            "Found 1248 images belonging to 26 classes.\n",
            "Found 312 images belonging to 26 classes.\n"
          ]
        }
      ]
    },
    {
      "cell_type": "code",
      "source": [
        "from keras import backend as K\n",
        "from keras import layers as L\n",
        "from keras.models import Model,load_model\n",
        "from keras.regularizers import l2\n",
        "from keras.callbacks import ModelCheckpoint,ReduceLROnPlateau,EarlyStopping\n",
        "\n",
        "K.clear_session()\n",
        "\n",
        "model_ckpt = ModelCheckpoint('BrailleNet.h5',save_best_only=True)\n",
        "reduce_lr = ReduceLROnPlateau(patience=8,verbose=0)\n",
        "early_stop = EarlyStopping(patience=15,verbose=1)\n",
        "\n",
        "entry = L.Input(shape=(28,28,3))\n",
        "x = L.SeparableConv2D(64,(3,3),activation='relu')(entry)\n",
        "x = L.MaxPooling2D((2,2))(x)\n",
        "x = L.SeparableConv2D(128,(3,3),activation='relu')(x)\n",
        "x = L.MaxPooling2D((2,2))(x)\n",
        "x = L.SeparableConv2D(256,(2,2),activation='relu')(x)\n",
        "x = L.GlobalMaxPooling2D()(x)\n",
        "x = L.Dense(256)(x)\n",
        "x = L.LeakyReLU()(x)\n",
        "x = L.Dense(64,kernel_regularizer=l2(2e-4))(x)\n",
        "x = L.LeakyReLU()(x)\n",
        "x = L.Dense(26,activation='softmax')(x)\n",
        "\n",
        "model = Model(entry,x)\n",
        "model.compile(loss='categorical_crossentropy',optimizer='adam',metrics=['accuracy'])\n",
        "\n",
        "history = model.fit_generator(train_generator,\n",
        "                              validation_data=val_generator,\n",
        "                              epochs=666,\n",
        "                              callbacks=[model_ckpt,reduce_lr,early_stop],\n",
        "                              verbose=1)"
      ],
      "metadata": {
        "colab": {
          "base_uri": "https://localhost:8080/"
        },
        "id": "-JGlTTYU5Der",
        "outputId": "c9805242-90bd-46fa-a033-6217cfcf2b5c"
      },
      "execution_count": null,
      "outputs": [
        {
          "output_type": "stream",
          "name": "stdout",
          "text": [
            "Epoch 1/666\n"
          ]
        },
        {
          "output_type": "stream",
          "name": "stderr",
          "text": [
            "<ipython-input-5-709140038fe6>:29: UserWarning: `Model.fit_generator` is deprecated and will be removed in a future version. Please use `Model.fit`, which supports generators.\n",
            "  history = model.fit_generator(train_generator,\n"
          ]
        },
        {
          "output_type": "stream",
          "name": "stdout",
          "text": [
            "39/39 [==============================] - 10s 37ms/step - loss: 3.2972 - accuracy: 0.0425 - val_loss: 3.2544 - val_accuracy: 0.0385 - lr: 0.0010\n",
            "Epoch 2/666\n",
            "39/39 [==============================] - 1s 30ms/step - loss: 3.1906 - accuracy: 0.0761 - val_loss: 3.0433 - val_accuracy: 0.1090 - lr: 0.0010\n",
            "Epoch 3/666\n",
            "39/39 [==============================] - 1s 31ms/step - loss: 2.8299 - accuracy: 0.1875 - val_loss: 2.3808 - val_accuracy: 0.3814 - lr: 0.0010\n",
            "Epoch 4/666\n",
            "39/39 [==============================] - 1s 30ms/step - loss: 2.2508 - accuracy: 0.3349 - val_loss: 2.1346 - val_accuracy: 0.3974 - lr: 0.0010\n",
            "Epoch 5/666\n",
            "39/39 [==============================] - 1s 34ms/step - loss: 1.7678 - accuracy: 0.5000 - val_loss: 1.3471 - val_accuracy: 0.6474 - lr: 0.0010\n",
            "Epoch 6/666\n",
            "39/39 [==============================] - 1s 30ms/step - loss: 1.3724 - accuracy: 0.6186 - val_loss: 1.5132 - val_accuracy: 0.5513 - lr: 0.0010\n",
            "Epoch 7/666\n",
            "39/39 [==============================] - 1s 34ms/step - loss: 1.1798 - accuracy: 0.6715 - val_loss: 1.1210 - val_accuracy: 0.7083 - lr: 0.0010\n",
            "Epoch 8/666\n",
            "39/39 [==============================] - 1s 32ms/step - loss: 1.0761 - accuracy: 0.6971 - val_loss: 0.8720 - val_accuracy: 0.7500 - lr: 0.0010\n",
            "Epoch 9/666\n",
            "39/39 [==============================] - 1s 33ms/step - loss: 0.8620 - accuracy: 0.7492 - val_loss: 0.8221 - val_accuracy: 0.8045 - lr: 0.0010\n",
            "Epoch 10/666\n",
            "39/39 [==============================] - 1s 31ms/step - loss: 0.8188 - accuracy: 0.7660 - val_loss: 0.8508 - val_accuracy: 0.7756 - lr: 0.0010\n",
            "Epoch 11/666\n",
            "39/39 [==============================] - 1s 31ms/step - loss: 0.7768 - accuracy: 0.7772 - val_loss: 0.8584 - val_accuracy: 0.7404 - lr: 0.0010\n",
            "Epoch 12/666\n",
            "39/39 [==============================] - 1s 33ms/step - loss: 0.6574 - accuracy: 0.8101 - val_loss: 0.7339 - val_accuracy: 0.8173 - lr: 0.0010\n",
            "Epoch 13/666\n",
            "39/39 [==============================] - 1s 31ms/step - loss: 0.6369 - accuracy: 0.8109 - val_loss: 0.7642 - val_accuracy: 0.8013 - lr: 0.0010\n",
            "Epoch 14/666\n",
            "39/39 [==============================] - 1s 31ms/step - loss: 0.5519 - accuracy: 0.8413 - val_loss: 0.5648 - val_accuracy: 0.8237 - lr: 0.0010\n",
            "Epoch 15/666\n",
            "39/39 [==============================] - 1s 31ms/step - loss: 0.4833 - accuracy: 0.8622 - val_loss: 0.5321 - val_accuracy: 0.8462 - lr: 0.0010\n",
            "Epoch 16/666\n",
            "39/39 [==============================] - 1s 31ms/step - loss: 0.4952 - accuracy: 0.8558 - val_loss: 0.5277 - val_accuracy: 0.8782 - lr: 0.0010\n",
            "Epoch 17/666\n",
            "39/39 [==============================] - 1s 30ms/step - loss: 0.4551 - accuracy: 0.8678 - val_loss: 0.4007 - val_accuracy: 0.8878 - lr: 0.0010\n",
            "Epoch 18/666\n",
            "39/39 [==============================] - 1s 29ms/step - loss: 0.3754 - accuracy: 0.8886 - val_loss: 0.5151 - val_accuracy: 0.8590 - lr: 0.0010\n",
            "Epoch 19/666\n",
            "39/39 [==============================] - 1s 29ms/step - loss: 0.3844 - accuracy: 0.8910 - val_loss: 0.4068 - val_accuracy: 0.8942 - lr: 0.0010\n",
            "Epoch 20/666\n",
            "39/39 [==============================] - 1s 30ms/step - loss: 0.3050 - accuracy: 0.9119 - val_loss: 0.4051 - val_accuracy: 0.9103 - lr: 0.0010\n",
            "Epoch 21/666\n",
            "39/39 [==============================] - 1s 31ms/step - loss: 0.3298 - accuracy: 0.9030 - val_loss: 0.4138 - val_accuracy: 0.8878 - lr: 0.0010\n",
            "Epoch 22/666\n",
            "39/39 [==============================] - 1s 30ms/step - loss: 0.2648 - accuracy: 0.9239 - val_loss: 0.3517 - val_accuracy: 0.9038 - lr: 0.0010\n",
            "Epoch 23/666\n",
            "39/39 [==============================] - 1s 30ms/step - loss: 0.3046 - accuracy: 0.9135 - val_loss: 0.5135 - val_accuracy: 0.8654 - lr: 0.0010\n",
            "Epoch 24/666\n",
            "39/39 [==============================] - 1s 29ms/step - loss: 0.3128 - accuracy: 0.9111 - val_loss: 0.6817 - val_accuracy: 0.8077 - lr: 0.0010\n",
            "Epoch 25/666\n",
            "39/39 [==============================] - 1s 30ms/step - loss: 0.3315 - accuracy: 0.8966 - val_loss: 0.4522 - val_accuracy: 0.8814 - lr: 0.0010\n",
            "Epoch 26/666\n",
            "39/39 [==============================] - 1s 31ms/step - loss: 0.3071 - accuracy: 0.9239 - val_loss: 0.3200 - val_accuracy: 0.9167 - lr: 0.0010\n",
            "Epoch 27/666\n",
            "39/39 [==============================] - 1s 30ms/step - loss: 0.2752 - accuracy: 0.9191 - val_loss: 0.3179 - val_accuracy: 0.9006 - lr: 0.0010\n",
            "Epoch 28/666\n",
            "39/39 [==============================] - 1s 30ms/step - loss: 0.2502 - accuracy: 0.9263 - val_loss: 0.4151 - val_accuracy: 0.8878 - lr: 0.0010\n",
            "Epoch 29/666\n",
            "39/39 [==============================] - 1s 29ms/step - loss: 0.2244 - accuracy: 0.9479 - val_loss: 0.3963 - val_accuracy: 0.8910 - lr: 0.0010\n",
            "Epoch 30/666\n",
            "39/39 [==============================] - 1s 30ms/step - loss: 0.2097 - accuracy: 0.9415 - val_loss: 0.3425 - val_accuracy: 0.9199 - lr: 0.0010\n",
            "Epoch 31/666\n",
            "39/39 [==============================] - 1s 29ms/step - loss: 0.3491 - accuracy: 0.8902 - val_loss: 0.3436 - val_accuracy: 0.9103 - lr: 0.0010\n",
            "Epoch 32/666\n",
            "39/39 [==============================] - 1s 29ms/step - loss: 0.2519 - accuracy: 0.9223 - val_loss: 0.4363 - val_accuracy: 0.9038 - lr: 0.0010\n",
            "Epoch 33/666\n",
            "39/39 [==============================] - 1s 29ms/step - loss: 0.2261 - accuracy: 0.9423 - val_loss: 0.3432 - val_accuracy: 0.9231 - lr: 0.0010\n",
            "Epoch 34/666\n",
            "39/39 [==============================] - 1s 30ms/step - loss: 0.2133 - accuracy: 0.9271 - val_loss: 0.3928 - val_accuracy: 0.8974 - lr: 0.0010\n",
            "Epoch 35/666\n",
            "39/39 [==============================] - 1s 30ms/step - loss: 0.2181 - accuracy: 0.9343 - val_loss: 0.5148 - val_accuracy: 0.8942 - lr: 0.0010\n",
            "Epoch 36/666\n",
            "39/39 [==============================] - 1s 31ms/step - loss: 0.1385 - accuracy: 0.9559 - val_loss: 0.2653 - val_accuracy: 0.9455 - lr: 1.0000e-04\n",
            "Epoch 37/666\n",
            "39/39 [==============================] - 1s 29ms/step - loss: 0.1053 - accuracy: 0.9768 - val_loss: 0.2825 - val_accuracy: 0.9327 - lr: 1.0000e-04\n",
            "Epoch 38/666\n",
            "39/39 [==============================] - 1s 30ms/step - loss: 0.0921 - accuracy: 0.9816 - val_loss: 0.2161 - val_accuracy: 0.9519 - lr: 1.0000e-04\n",
            "Epoch 39/666\n",
            "39/39 [==============================] - 1s 29ms/step - loss: 0.0913 - accuracy: 0.9800 - val_loss: 0.3154 - val_accuracy: 0.9231 - lr: 1.0000e-04\n",
            "Epoch 40/666\n",
            "39/39 [==============================] - 1s 30ms/step - loss: 0.0837 - accuracy: 0.9840 - val_loss: 0.2759 - val_accuracy: 0.9295 - lr: 1.0000e-04\n",
            "Epoch 41/666\n",
            "39/39 [==============================] - 1s 29ms/step - loss: 0.0830 - accuracy: 0.9832 - val_loss: 0.2288 - val_accuracy: 0.9423 - lr: 1.0000e-04\n",
            "Epoch 42/666\n",
            "39/39 [==============================] - 1s 30ms/step - loss: 0.0918 - accuracy: 0.9800 - val_loss: 0.1991 - val_accuracy: 0.9455 - lr: 1.0000e-04\n",
            "Epoch 43/666\n",
            "39/39 [==============================] - 1s 31ms/step - loss: 0.0908 - accuracy: 0.9824 - val_loss: 0.1929 - val_accuracy: 0.9423 - lr: 1.0000e-04\n",
            "Epoch 44/666\n",
            "39/39 [==============================] - 1s 31ms/step - loss: 0.0839 - accuracy: 0.9800 - val_loss: 0.2310 - val_accuracy: 0.9359 - lr: 1.0000e-04\n",
            "Epoch 45/666\n",
            "39/39 [==============================] - 1s 29ms/step - loss: 0.0911 - accuracy: 0.9816 - val_loss: 0.2231 - val_accuracy: 0.9487 - lr: 1.0000e-04\n",
            "Epoch 46/666\n",
            "39/39 [==============================] - 1s 30ms/step - loss: 0.0887 - accuracy: 0.9784 - val_loss: 0.2635 - val_accuracy: 0.9359 - lr: 1.0000e-04\n",
            "Epoch 47/666\n",
            "39/39 [==============================] - 1s 29ms/step - loss: 0.0811 - accuracy: 0.9848 - val_loss: 0.2510 - val_accuracy: 0.9359 - lr: 1.0000e-04\n",
            "Epoch 48/666\n",
            "39/39 [==============================] - 1s 30ms/step - loss: 0.0792 - accuracy: 0.9872 - val_loss: 0.2783 - val_accuracy: 0.9327 - lr: 1.0000e-04\n",
            "Epoch 49/666\n",
            "39/39 [==============================] - 1s 29ms/step - loss: 0.0850 - accuracy: 0.9800 - val_loss: 0.2368 - val_accuracy: 0.9519 - lr: 1.0000e-04\n",
            "Epoch 50/666\n",
            "39/39 [==============================] - 1s 30ms/step - loss: 0.0852 - accuracy: 0.9848 - val_loss: 0.2679 - val_accuracy: 0.9423 - lr: 1.0000e-04\n",
            "Epoch 51/666\n",
            "39/39 [==============================] - 1s 30ms/step - loss: 0.0846 - accuracy: 0.9856 - val_loss: 0.2028 - val_accuracy: 0.9551 - lr: 1.0000e-04\n",
            "Epoch 52/666\n",
            "39/39 [==============================] - 1s 29ms/step - loss: 0.0781 - accuracy: 0.9896 - val_loss: 0.2198 - val_accuracy: 0.9455 - lr: 1.0000e-05\n",
            "Epoch 53/666\n",
            "39/39 [==============================] - 1s 30ms/step - loss: 0.0991 - accuracy: 0.9848 - val_loss: 0.2738 - val_accuracy: 0.9487 - lr: 1.0000e-05\n",
            "Epoch 54/666\n",
            "39/39 [==============================] - 1s 29ms/step - loss: 0.0884 - accuracy: 0.9800 - val_loss: 0.2426 - val_accuracy: 0.9391 - lr: 1.0000e-05\n",
            "Epoch 55/666\n",
            "39/39 [==============================] - 1s 29ms/step - loss: 0.0748 - accuracy: 0.9848 - val_loss: 0.2889 - val_accuracy: 0.9359 - lr: 1.0000e-05\n",
            "Epoch 56/666\n",
            "39/39 [==============================] - 1s 29ms/step - loss: 0.0667 - accuracy: 0.9912 - val_loss: 0.2296 - val_accuracy: 0.9327 - lr: 1.0000e-05\n",
            "Epoch 57/666\n",
            "39/39 [==============================] - 1s 30ms/step - loss: 0.0775 - accuracy: 0.9856 - val_loss: 0.2196 - val_accuracy: 0.9423 - lr: 1.0000e-05\n",
            "Epoch 58/666\n",
            "39/39 [==============================] - 1s 30ms/step - loss: 0.0816 - accuracy: 0.9848 - val_loss: 0.2146 - val_accuracy: 0.9455 - lr: 1.0000e-05\n",
            "Epoch 58: early stopping\n"
          ]
        }
      ]
    },
    {
      "cell_type": "code",
      "source": [
        "model.summary()"
      ],
      "metadata": {
        "colab": {
          "base_uri": "https://localhost:8080/"
        },
        "id": "BKL3gMiD5oGb",
        "outputId": "8e52d62c-d232-4f8a-d4ef-daad702c95ea"
      },
      "execution_count": null,
      "outputs": [
        {
          "output_type": "stream",
          "name": "stdout",
          "text": [
            "Model: \"model\"\n",
            "_________________________________________________________________\n",
            " Layer (type)                Output Shape              Param #   \n",
            "=================================================================\n",
            " input_1 (InputLayer)        [(None, 28, 28, 3)]       0         \n",
            "                                                                 \n",
            " separable_conv2d (Separable  (None, 26, 26, 64)       283       \n",
            " Conv2D)                                                         \n",
            "                                                                 \n",
            " max_pooling2d (MaxPooling2D  (None, 13, 13, 64)       0         \n",
            " )                                                               \n",
            "                                                                 \n",
            " separable_conv2d_1 (Separab  (None, 11, 11, 128)      8896      \n",
            " leConv2D)                                                       \n",
            "                                                                 \n",
            " max_pooling2d_1 (MaxPooling  (None, 5, 5, 128)        0         \n",
            " 2D)                                                             \n",
            "                                                                 \n",
            " separable_conv2d_2 (Separab  (None, 4, 4, 256)        33536     \n",
            " leConv2D)                                                       \n",
            "                                                                 \n",
            " global_max_pooling2d (Globa  (None, 256)              0         \n",
            " lMaxPooling2D)                                                  \n",
            "                                                                 \n",
            " dense (Dense)               (None, 256)               65792     \n",
            "                                                                 \n",
            " leaky_re_lu (LeakyReLU)     (None, 256)               0         \n",
            "                                                                 \n",
            " dense_1 (Dense)             (None, 64)                16448     \n",
            "                                                                 \n",
            " leaky_re_lu_1 (LeakyReLU)   (None, 64)                0         \n",
            "                                                                 \n",
            " dense_2 (Dense)             (None, 26)                1690      \n",
            "                                                                 \n",
            "=================================================================\n",
            "Total params: 126,645\n",
            "Trainable params: 126,645\n",
            "Non-trainable params: 0\n",
            "_________________________________________________________________\n"
          ]
        }
      ]
    },
    {
      "cell_type": "code",
      "source": [
        "model = load_model('BrailleNet.h5')\n",
        "acc = model.evaluate_generator(val_generator)[1]\n",
        "print('model accuracy: {}'.format(round(acc,4)))"
      ],
      "metadata": {
        "colab": {
          "base_uri": "https://localhost:8080/"
        },
        "id": "lWnovahv5svg",
        "outputId": "ef62b302-d8d6-4580-c601-de6070f1bdc2"
      },
      "execution_count": null,
      "outputs": [
        {
          "output_type": "stream",
          "name": "stderr",
          "text": [
            "<ipython-input-7-11a8187ef6d0>:2: UserWarning: `Model.evaluate_generator` is deprecated and will be removed in a future version. Please use `Model.evaluate`, which supports generators.\n",
            "  acc = model.evaluate_generator(val_generator)[1]\n"
          ]
        },
        {
          "output_type": "stream",
          "name": "stdout",
          "text": [
            "model accuracy: 0.9423\n"
          ]
        }
      ]
    },
    {
      "cell_type": "code",
      "source": [
        "import matplotlib.pyplot as plt\n",
        "plt.plot(history.history['loss'], label='train loss')\n",
        "plt.plot(history.history['val_loss'], label='val loss')\n",
        "plt.legend()\n",
        "plt.show()\n",
        "plt.savefig('LossVal_loss')\n",
        "\n",
        "# plot the accuracy\n",
        "plt.plot(history.history['accuracy'], label='train acc')\n",
        "plt.plot(history.history['val_accuracy'], label='val acc')\n",
        "plt.legend()\n",
        "plt.show()\n",
        "plt.savefig('AccVal_acc')"
      ],
      "metadata": {
        "colab": {
          "base_uri": "https://localhost:8080/",
          "height": 530
        },
        "id": "LB2VB_ND6MAc",
        "outputId": "9e7debe0-82c7-413a-a369-d40f596163ff"
      },
      "execution_count": null,
      "outputs": [
        {
          "output_type": "display_data",
          "data": {
            "text/plain": [
              "<Figure size 432x288 with 1 Axes>"
            ],
            "image/png": "[encoded data removed]"
          },
          "metadata": {
            "needs_background": "light"
          }
        },
        {
          "output_type": "display_data",
          "data": {
            "text/plain": [
              "<Figure size 432x288 with 1 Axes>"
            ],
            "image/png": "[encoded data removed]"
          },
          "metadata": {
            "needs_background": "light"
          }
        },
        {
          "output_type": "display_data",
          "data": {
            "text/plain": [
              "<Figure size 432x288 with 0 Axes>"
            ]
          },
          "metadata": {}
        }
      ]
    },
    {
      "cell_type": "code",
      "source": [
        "from tensorflow.keras.preprocessing import image\n",
        "img=image.load_img('/content/drive/MyDrive/Personal/Main Project/Braille Dataset/w1.JPG14rot.jpg')\n",
        "\n",
        "plt.imshow(img)\n",
        "\n",
        "x=image.img_to_array(img)\n",
        "print(x)\n",
        "\n",
        "x=resize(x, (28, 28))\n",
        "\n",
        "print(x.shape)\n",
        "\n",
        "x=np.expand_dims(x,axis=0)\n",
        "model.predict(x)\n",
        "\n",
        "a=int(np.argmax(model.predict(x), axis=1))\n",
        "\n",
        "print(chr(ord('`')+a+1))\n"
      ],
      "metadata": {
        "colab": {
          "base_uri": "https://localhost:8080/",
          "height": 1000
        },
        "id": "EVi6pqSBKKFp",
        "outputId": "18588026-c28e-45b5-da7d-26d51c98694c"
      },
      "execution_count": null,
      "outputs": [
        {
          "output_type": "stream",
          "name": "stdout",
          "text": [
            "[[[255. 255. 255.]\n",
            "  [255. 255. 255.]\n",
            "  [255. 255. 255.]\n",
            "  ...\n",
            "  [255. 255. 255.]\n",
            "  [255. 255. 255.]\n",
            "  [255. 255. 255.]]\n",
            "\n",
            " [[255. 255. 255.]\n",
            "  [255. 255. 255.]\n",
            "  [255. 255. 255.]\n",
            "  ...\n",
            "  [254. 254. 254.]\n",
            "  [254. 254. 254.]\n",
            "  [254. 254. 254.]]\n",
            "\n",
            " [[255. 255. 255.]\n",
            "  [255. 255. 255.]\n",
            "  [255. 255. 255.]\n",
            "  ...\n",
            "  [254. 254. 254.]\n",
            "  [254. 254. 254.]\n",
            "  [254. 254. 254.]]\n",
            "\n",
            " ...\n",
            "\n",
            " [[255. 255. 255.]\n",
            "  [255. 255. 255.]\n",
            "  [252. 252. 252.]\n",
            "  ...\n",
            "  [248. 248. 248.]\n",
            "  [253. 253. 253.]\n",
            "  [255. 255. 255.]]\n",
            "\n",
            " [[255. 255. 255.]\n",
            "  [255. 255. 255.]\n",
            "  [255. 255. 255.]\n",
            "  ...\n",
            "  [252. 252. 252.]\n",
            "  [255. 255. 255.]\n",
            "  [255. 255. 255.]]\n",
            "\n",
            " [[253. 253. 253.]\n",
            "  [254. 254. 254.]\n",
            "  [254. 254. 254.]\n",
            "  ...\n",
            "  [255. 255. 255.]\n",
            "  [255. 255. 255.]\n",
            "  [255. 255. 255.]]]\n",
            "(28, 28, 3)\n",
            "1/1 [==============================] - 0s 171ms/step\n",
            "1/1 [==============================] - 0s 16ms/step\n",
            "w\n"
          ]
        },
        {
          "output_type": "display_data",
          "data": {
            "text/plain": [
              "<Figure size 432x288 with 1 Axes>"
            ],
            "image/png": "[encoded data removed]"
          },
          "metadata": {
            "needs_background": "light"
          }
        }
      ]
    }
  ]
}