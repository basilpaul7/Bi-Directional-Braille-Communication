{
  "nbformat": 4,
  "nbformat_minor": 0,
  "metadata": {
    "colab": {
      "provenance": [],
      "mount_file_id": "1hrs6_2jKC_YAIXbyj63qiBM6cN4BrS2x",
      "authorship_tag": "ABX9TyMwW0PhbHJGcN0OKMy2BHRj",
      "include_colab_link": true
    },
    "kernelspec": {
      "name": "python3",
      "display_name": "Python 3"
    },
    "language_info": {
      "name": "python"
    },
    "accelerator": "GPU",
    "gpuClass": "standard"
  },
  "cells": [
    {
      "cell_type": "markdown",
      "metadata": {
        "id": "view-in-github",
        "colab_type": "text"
      },
      "source": [
        "<a href=\"https://colab.research.google.com/github/basilpaul7/Bi-Directional-Braille-Communication/blob/main/Braille_Text_Model.ipynb\" target=\"_parent\"><img src=\"https://colab.research.google.com/assets/colab-badge.svg\" alt=\"Open In Colab\"/></a>"
      ]
    },
    {
      "cell_type": "code",
      "execution_count": 1,
      "metadata": {
        "colab": {
          "base_uri": "https://localhost:8080/"
        },
        "id": "TxlNll2H4Gvv",
        "outputId": "85fe8850-3ee3-444f-e1ab-158c228b73c5"
      },
      "outputs": [
        {
          "output_type": "stream",
          "name": "stdout",
          "text": [
            "Drive already mounted at /content/drive; to attempt to forcibly remount, call drive.mount(\"/content/drive\", force_remount=True).\n"
          ]
        }
      ],
      "source": [
        "from google.colab import drive\n",
        "drive.mount('/content/drive')"
      ]
    },
    {
      "cell_type": "code",
      "source": [
        "import os\n",
        "import numpy as np\n",
        "import pandas as pd\n",
        "from shutil import copyfile"
      ],
      "metadata": {
        "id": "VlIYZBGX4bqN"
      },
      "execution_count": 2,
      "outputs": []
    },
    {
      "cell_type": "code",
      "source": [
        "os.mkdir('./images/')\n",
        "alpha = 'a'\n",
        "for i in range(0, 26): \n",
        "    os.mkdir('./images/' + alpha)\n",
        "    alpha = chr(ord(alpha) + 1)\n",
        "\n",
        "rootdir = '/content/drive/MyDrive/Personal/Main Project/Braille Dataset/'\n",
        "for file in os.listdir(rootdir):\n",
        "    letter = file[0]\n",
        "    copyfile(rootdir+file, './images/' + letter + '/' + file)"
      ],
      "metadata": {
        "id": "Jn87mOoM4e70"
      },
      "execution_count": 3,
      "outputs": []
    },
    {
      "cell_type": "code",
      "source": [
        "from keras.preprocessing.image import ImageDataGenerator\n",
        "datagen = ImageDataGenerator(rotation_range=20,\n",
        "                             shear_range=10,\n",
        "                             validation_split=0.2)\n",
        "\n",
        "train_generator = datagen.flow_from_directory('./images/',\n",
        "                                              target_size=(28,28),\n",
        "                                              subset='training')\n",
        "\n",
        "val_generator = datagen.flow_from_directory('./images/',\n",
        "                                            target_size=(28,28),\n",
        "                                            subset='validation')"
      ],
      "metadata": {
        "colab": {
          "base_uri": "https://localhost:8080/"
        },
        "id": "MgtDwpcy49sn",
        "outputId": "27190567-c41e-4d75-8c38-1cb882c7b229"
      },
      "execution_count": 4,
      "outputs": [
        {
          "output_type": "stream",
          "name": "stdout",
          "text": [
            "Found 1248 images belonging to 26 classes.\n",
            "Found 312 images belonging to 26 classes.\n"
          ]
        }
      ]
    },
    {
      "cell_type": "code",
      "source": [
        "from keras import backend as K\n",
        "from keras import layers as L\n",
        "from keras.models import Model,load_model\n",
        "from keras.regularizers import l2\n",
        "from keras.callbacks import ModelCheckpoint,ReduceLROnPlateau,EarlyStopping\n",
        "\n",
        "K.clear_session()\n",
        "\n",
        "model_ckpt = ModelCheckpoint('BrailleNet.h5',save_best_only=True)\n",
        "reduce_lr = ReduceLROnPlateau(patience=8,verbose=0)\n",
        "early_stop = EarlyStopping(patience=15,verbose=1)\n",
        "\n",
        "entry = L.Input(shape=(28,28,3))\n",
        "x = L.SeparableConv2D(64,(3,3),activation='relu')(entry)\n",
        "x = L.MaxPooling2D((2,2))(x)\n",
        "x = L.SeparableConv2D(128,(3,3),activation='relu')(x)\n",
        "x = L.MaxPooling2D((2,2))(x)\n",
        "x = L.SeparableConv2D(256,(2,2),activation='relu')(x)\n",
        "x = L.GlobalMaxPooling2D()(x)\n",
        "x = L.Dense(256)(x)\n",
        "x = L.LeakyReLU()(x)\n",
        "x = L.Dense(64,kernel_regularizer=l2(2e-4))(x)\n",
        "x = L.LeakyReLU()(x)\n",
        "x = L.Dense(26,activation='softmax')(x)\n",
        "\n",
        "model = Model(entry,x)\n",
        "model.compile(loss='categorical_crossentropy',optimizer='adam',metrics=['accuracy'])\n",
        "\n",
        "history = model.fit_generator(train_generator,\n",
        "                              validation_data=val_generator,\n",
        "                              epochs=666,\n",
        "                              callbacks=[model_ckpt,reduce_lr,early_stop],\n",
        "                              verbose=1)"
      ],
      "metadata": {
        "colab": {
          "base_uri": "https://localhost:8080/"
        },
        "id": "-JGlTTYU5Der",
        "outputId": "fd168aaf-7202-4008-d5ed-f57a4cad4463"
      },
      "execution_count": 5,
      "outputs": [
        {
          "output_type": "stream",
          "name": "stdout",
          "text": [
            "Epoch 1/666\n"
          ]
        },
        {
          "output_type": "stream",
          "name": "stderr",
          "text": [
            "<ipython-input-5-709140038fe6>:29: UserWarning: `Model.fit_generator` is deprecated and will be removed in a future version. Please use `Model.fit`, which supports generators.\n",
            "  history = model.fit_generator(train_generator,\n"
          ]
        },
        {
          "output_type": "stream",
          "name": "stdout",
          "text": [
            "39/39 [==============================] - 9s 40ms/step - loss: 3.3085 - accuracy: 0.0385 - val_loss: 3.2634 - val_accuracy: 0.0801 - lr: 0.0010\n",
            "Epoch 2/666\n",
            "39/39 [==============================] - 1s 31ms/step - loss: 3.2225 - accuracy: 0.0673 - val_loss: 3.1288 - val_accuracy: 0.1026 - lr: 0.0010\n",
            "Epoch 3/666\n",
            "39/39 [==============================] - 2s 42ms/step - loss: 3.0041 - accuracy: 0.1218 - val_loss: 2.7243 - val_accuracy: 0.3173 - lr: 0.0010\n",
            "Epoch 4/666\n",
            "39/39 [==============================] - 1s 33ms/step - loss: 2.5969 - accuracy: 0.2452 - val_loss: 2.3763 - val_accuracy: 0.2564 - lr: 0.0010\n",
            "Epoch 5/666\n",
            "39/39 [==============================] - 1s 32ms/step - loss: 2.1447 - accuracy: 0.3638 - val_loss: 1.6854 - val_accuracy: 0.5032 - lr: 0.0010\n",
            "Epoch 6/666\n",
            "39/39 [==============================] - 1s 32ms/step - loss: 1.6626 - accuracy: 0.5312 - val_loss: 1.4340 - val_accuracy: 0.5641 - lr: 0.0010\n",
            "Epoch 7/666\n",
            "39/39 [==============================] - 1s 31ms/step - loss: 1.3292 - accuracy: 0.6274 - val_loss: 1.2379 - val_accuracy: 0.6506 - lr: 0.0010\n",
            "Epoch 8/666\n",
            "39/39 [==============================] - 1s 31ms/step - loss: 1.0089 - accuracy: 0.7179 - val_loss: 0.9107 - val_accuracy: 0.7628 - lr: 0.0010\n",
            "Epoch 9/666\n",
            "39/39 [==============================] - 1s 31ms/step - loss: 0.9586 - accuracy: 0.7204 - val_loss: 1.2020 - val_accuracy: 0.6314 - lr: 0.0010\n",
            "Epoch 10/666\n",
            "39/39 [==============================] - 1s 32ms/step - loss: 0.8235 - accuracy: 0.7620 - val_loss: 0.7676 - val_accuracy: 0.7853 - lr: 0.0010\n",
            "Epoch 11/666\n",
            "39/39 [==============================] - 1s 35ms/step - loss: 0.7283 - accuracy: 0.7772 - val_loss: 0.7380 - val_accuracy: 0.7724 - lr: 0.0010\n",
            "Epoch 12/666\n",
            "39/39 [==============================] - 1s 33ms/step - loss: 0.5914 - accuracy: 0.8181 - val_loss: 0.6938 - val_accuracy: 0.8205 - lr: 0.0010\n",
            "Epoch 13/666\n",
            "39/39 [==============================] - 1s 31ms/step - loss: 0.5610 - accuracy: 0.8325 - val_loss: 0.6827 - val_accuracy: 0.8301 - lr: 0.0010\n",
            "Epoch 14/666\n",
            "39/39 [==============================] - 1s 32ms/step - loss: 0.5648 - accuracy: 0.8237 - val_loss: 0.5467 - val_accuracy: 0.8462 - lr: 0.0010\n",
            "Epoch 15/666\n",
            "39/39 [==============================] - 1s 32ms/step - loss: 0.4959 - accuracy: 0.8590 - val_loss: 0.6296 - val_accuracy: 0.8109 - lr: 0.0010\n",
            "Epoch 16/666\n",
            "39/39 [==============================] - 1s 31ms/step - loss: 0.5835 - accuracy: 0.8373 - val_loss: 0.8183 - val_accuracy: 0.7596 - lr: 0.0010\n",
            "Epoch 17/666\n",
            "39/39 [==============================] - 1s 30ms/step - loss: 0.5063 - accuracy: 0.8510 - val_loss: 0.5917 - val_accuracy: 0.8141 - lr: 0.0010\n",
            "Epoch 18/666\n",
            "39/39 [==============================] - 1s 31ms/step - loss: 0.3868 - accuracy: 0.8958 - val_loss: 0.4608 - val_accuracy: 0.8654 - lr: 0.0010\n",
            "Epoch 19/666\n",
            "39/39 [==============================] - 1s 37ms/step - loss: 0.3687 - accuracy: 0.8950 - val_loss: 0.5203 - val_accuracy: 0.8782 - lr: 0.0010\n",
            "Epoch 20/666\n",
            "39/39 [==============================] - 2s 47ms/step - loss: 0.3483 - accuracy: 0.8974 - val_loss: 0.5777 - val_accuracy: 0.8494 - lr: 0.0010\n",
            "Epoch 21/666\n",
            "39/39 [==============================] - 1s 30ms/step - loss: 0.3354 - accuracy: 0.8974 - val_loss: 0.4848 - val_accuracy: 0.8590 - lr: 0.0010\n",
            "Epoch 22/666\n",
            "39/39 [==============================] - 1s 32ms/step - loss: 0.3697 - accuracy: 0.9014 - val_loss: 0.3996 - val_accuracy: 0.8814 - lr: 0.0010\n",
            "Epoch 23/666\n",
            "39/39 [==============================] - 1s 31ms/step - loss: 0.2673 - accuracy: 0.9303 - val_loss: 0.4035 - val_accuracy: 0.8974 - lr: 0.0010\n",
            "Epoch 24/666\n",
            "39/39 [==============================] - 1s 31ms/step - loss: 0.2335 - accuracy: 0.9327 - val_loss: 0.4769 - val_accuracy: 0.8846 - lr: 0.0010\n",
            "Epoch 25/666\n",
            "39/39 [==============================] - 1s 32ms/step - loss: 0.2942 - accuracy: 0.9111 - val_loss: 0.4043 - val_accuracy: 0.9006 - lr: 0.0010\n",
            "Epoch 26/666\n",
            "39/39 [==============================] - 1s 32ms/step - loss: 0.2973 - accuracy: 0.9111 - val_loss: 0.3885 - val_accuracy: 0.8942 - lr: 0.0010\n",
            "Epoch 27/666\n",
            "39/39 [==============================] - 1s 32ms/step - loss: 0.2572 - accuracy: 0.9279 - val_loss: 0.5244 - val_accuracy: 0.8718 - lr: 0.0010\n",
            "Epoch 28/666\n",
            "39/39 [==============================] - 1s 32ms/step - loss: 0.2643 - accuracy: 0.9255 - val_loss: 0.4140 - val_accuracy: 0.9071 - lr: 0.0010\n",
            "Epoch 29/666\n",
            "39/39 [==============================] - 1s 35ms/step - loss: 0.1993 - accuracy: 0.9495 - val_loss: 0.3724 - val_accuracy: 0.9135 - lr: 0.0010\n",
            "Epoch 30/666\n",
            "39/39 [==============================] - 1s 31ms/step - loss: 0.2155 - accuracy: 0.9391 - val_loss: 0.3800 - val_accuracy: 0.9038 - lr: 0.0010\n",
            "Epoch 31/666\n",
            "39/39 [==============================] - 1s 31ms/step - loss: 0.1891 - accuracy: 0.9439 - val_loss: 0.3784 - val_accuracy: 0.8942 - lr: 0.0010\n",
            "Epoch 32/666\n",
            "39/39 [==============================] - 1s 32ms/step - loss: 0.1644 - accuracy: 0.9535 - val_loss: 0.3938 - val_accuracy: 0.9135 - lr: 0.0010\n",
            "Epoch 33/666\n",
            "39/39 [==============================] - 1s 34ms/step - loss: 0.1693 - accuracy: 0.9567 - val_loss: 0.3675 - val_accuracy: 0.9167 - lr: 0.0010\n",
            "Epoch 34/666\n",
            "39/39 [==============================] - 1s 32ms/step - loss: 0.1847 - accuracy: 0.9511 - val_loss: 0.6139 - val_accuracy: 0.8558 - lr: 0.0010\n",
            "Epoch 35/666\n",
            "39/39 [==============================] - 1s 31ms/step - loss: 0.1848 - accuracy: 0.9495 - val_loss: 0.4681 - val_accuracy: 0.8942 - lr: 0.0010\n",
            "Epoch 36/666\n",
            "39/39 [==============================] - 1s 32ms/step - loss: 0.2612 - accuracy: 0.9319 - val_loss: 0.4033 - val_accuracy: 0.9135 - lr: 0.0010\n",
            "Epoch 37/666\n",
            "39/39 [==============================] - 1s 35ms/step - loss: 0.1952 - accuracy: 0.9391 - val_loss: 0.3452 - val_accuracy: 0.9103 - lr: 0.0010\n",
            "Epoch 38/666\n",
            "39/39 [==============================] - 1s 32ms/step - loss: 0.2106 - accuracy: 0.9375 - val_loss: 0.4176 - val_accuracy: 0.9038 - lr: 0.0010\n",
            "Epoch 39/666\n",
            "39/39 [==============================] - 1s 31ms/step - loss: 0.3002 - accuracy: 0.9119 - val_loss: 0.4297 - val_accuracy: 0.9038 - lr: 0.0010\n",
            "Epoch 40/666\n",
            "39/39 [==============================] - 1s 32ms/step - loss: 0.2584 - accuracy: 0.9215 - val_loss: 0.3443 - val_accuracy: 0.9071 - lr: 0.0010\n",
            "Epoch 41/666\n",
            "39/39 [==============================] - 1s 33ms/step - loss: 0.1447 - accuracy: 0.9663 - val_loss: 0.2861 - val_accuracy: 0.9199 - lr: 0.0010\n",
            "Epoch 42/666\n",
            "39/39 [==============================] - 1s 30ms/step - loss: 0.1488 - accuracy: 0.9615 - val_loss: 0.4401 - val_accuracy: 0.9103 - lr: 0.0010\n",
            "Epoch 43/666\n",
            "39/39 [==============================] - 1s 32ms/step - loss: 0.1541 - accuracy: 0.9631 - val_loss: 0.3756 - val_accuracy: 0.9135 - lr: 0.0010\n",
            "Epoch 44/666\n",
            "39/39 [==============================] - 1s 31ms/step - loss: 0.1374 - accuracy: 0.9647 - val_loss: 0.2938 - val_accuracy: 0.9455 - lr: 0.0010\n",
            "Epoch 45/666\n",
            "39/39 [==============================] - 1s 32ms/step - loss: 0.1902 - accuracy: 0.9479 - val_loss: 0.3290 - val_accuracy: 0.9071 - lr: 0.0010\n",
            "Epoch 46/666\n",
            "39/39 [==============================] - 1s 32ms/step - loss: 0.2206 - accuracy: 0.9359 - val_loss: 0.2996 - val_accuracy: 0.9327 - lr: 0.0010\n",
            "Epoch 47/666\n",
            "39/39 [==============================] - 1s 31ms/step - loss: 0.1646 - accuracy: 0.9575 - val_loss: 0.4242 - val_accuracy: 0.8974 - lr: 0.0010\n",
            "Epoch 48/666\n",
            "39/39 [==============================] - 1s 32ms/step - loss: 0.1657 - accuracy: 0.9567 - val_loss: 0.2991 - val_accuracy: 0.9199 - lr: 0.0010\n",
            "Epoch 49/666\n",
            "39/39 [==============================] - 1s 33ms/step - loss: 0.1713 - accuracy: 0.9535 - val_loss: 0.4474 - val_accuracy: 0.9038 - lr: 0.0010\n",
            "Epoch 50/666\n",
            "39/39 [==============================] - 1s 32ms/step - loss: 0.1071 - accuracy: 0.9736 - val_loss: 0.2744 - val_accuracy: 0.9423 - lr: 1.0000e-04\n",
            "Epoch 51/666\n",
            "39/39 [==============================] - 1s 31ms/step - loss: 0.0772 - accuracy: 0.9848 - val_loss: 0.2010 - val_accuracy: 0.9583 - lr: 1.0000e-04\n",
            "Epoch 52/666\n",
            "39/39 [==============================] - 1s 30ms/step - loss: 0.0714 - accuracy: 0.9888 - val_loss: 0.2195 - val_accuracy: 0.9487 - lr: 1.0000e-04\n",
            "Epoch 53/666\n",
            "39/39 [==============================] - 1s 31ms/step - loss: 0.0722 - accuracy: 0.9880 - val_loss: 0.2343 - val_accuracy: 0.9391 - lr: 1.0000e-04\n",
            "Epoch 54/666\n",
            "39/39 [==============================] - 2s 45ms/step - loss: 0.0642 - accuracy: 0.9912 - val_loss: 0.2669 - val_accuracy: 0.9423 - lr: 1.0000e-04\n",
            "Epoch 55/666\n",
            "39/39 [==============================] - 1s 37ms/step - loss: 0.0633 - accuracy: 0.9920 - val_loss: 0.2209 - val_accuracy: 0.9455 - lr: 1.0000e-04\n",
            "Epoch 56/666\n",
            "39/39 [==============================] - 1s 30ms/step - loss: 0.0656 - accuracy: 0.9880 - val_loss: 0.2547 - val_accuracy: 0.9583 - lr: 1.0000e-04\n",
            "Epoch 57/666\n",
            "39/39 [==============================] - 1s 30ms/step - loss: 0.0599 - accuracy: 0.9896 - val_loss: 0.2319 - val_accuracy: 0.9423 - lr: 1.0000e-04\n",
            "Epoch 58/666\n",
            "39/39 [==============================] - 1s 30ms/step - loss: 0.0626 - accuracy: 0.9904 - val_loss: 0.2568 - val_accuracy: 0.9391 - lr: 1.0000e-04\n",
            "Epoch 59/666\n",
            "39/39 [==============================] - 1s 31ms/step - loss: 0.0877 - accuracy: 0.9872 - val_loss: 0.2865 - val_accuracy: 0.9391 - lr: 1.0000e-04\n",
            "Epoch 60/666\n",
            "39/39 [==============================] - 1s 31ms/step - loss: 0.0638 - accuracy: 0.9904 - val_loss: 0.2307 - val_accuracy: 0.9423 - lr: 1.0000e-05\n",
            "Epoch 61/666\n",
            "39/39 [==============================] - 1s 31ms/step - loss: 0.0531 - accuracy: 0.9944 - val_loss: 0.2206 - val_accuracy: 0.9519 - lr: 1.0000e-05\n",
            "Epoch 62/666\n",
            "39/39 [==============================] - 1s 32ms/step - loss: 0.0586 - accuracy: 0.9936 - val_loss: 0.1706 - val_accuracy: 0.9519 - lr: 1.0000e-05\n",
            "Epoch 63/666\n",
            "39/39 [==============================] - 1s 31ms/step - loss: 0.0636 - accuracy: 0.9888 - val_loss: 0.2319 - val_accuracy: 0.9551 - lr: 1.0000e-05\n",
            "Epoch 64/666\n",
            "39/39 [==============================] - 1s 31ms/step - loss: 0.0734 - accuracy: 0.9856 - val_loss: 0.2449 - val_accuracy: 0.9455 - lr: 1.0000e-05\n",
            "Epoch 65/666\n",
            "39/39 [==============================] - 1s 31ms/step - loss: 0.0659 - accuracy: 0.9912 - val_loss: 0.2508 - val_accuracy: 0.9455 - lr: 1.0000e-05\n",
            "Epoch 66/666\n",
            "39/39 [==============================] - 1s 31ms/step - loss: 0.0584 - accuracy: 0.9920 - val_loss: 0.2140 - val_accuracy: 0.9455 - lr: 1.0000e-05\n",
            "Epoch 67/666\n",
            "39/39 [==============================] - 1s 31ms/step - loss: 0.0753 - accuracy: 0.9912 - val_loss: 0.2013 - val_accuracy: 0.9551 - lr: 1.0000e-05\n",
            "Epoch 68/666\n",
            "39/39 [==============================] - 1s 31ms/step - loss: 0.0678 - accuracy: 0.9880 - val_loss: 0.2111 - val_accuracy: 0.9487 - lr: 1.0000e-05\n",
            "Epoch 69/666\n",
            "39/39 [==============================] - 1s 31ms/step - loss: 0.0664 - accuracy: 0.9928 - val_loss: 0.2272 - val_accuracy: 0.9391 - lr: 1.0000e-05\n",
            "Epoch 70/666\n",
            "39/39 [==============================] - 1s 31ms/step - loss: 0.0551 - accuracy: 0.9928 - val_loss: 0.2407 - val_accuracy: 0.9455 - lr: 1.0000e-05\n",
            "Epoch 71/666\n",
            "39/39 [==============================] - 1s 31ms/step - loss: 0.0628 - accuracy: 0.9896 - val_loss: 0.2607 - val_accuracy: 0.9455 - lr: 1.0000e-06\n",
            "Epoch 72/666\n",
            "39/39 [==============================] - 1s 32ms/step - loss: 0.0589 - accuracy: 0.9912 - val_loss: 0.2605 - val_accuracy: 0.9455 - lr: 1.0000e-06\n",
            "Epoch 73/666\n",
            "39/39 [==============================] - 1s 32ms/step - loss: 0.0578 - accuracy: 0.9920 - val_loss: 0.2100 - val_accuracy: 0.9551 - lr: 1.0000e-06\n",
            "Epoch 74/666\n",
            "39/39 [==============================] - 1s 31ms/step - loss: 0.0673 - accuracy: 0.9888 - val_loss: 0.2228 - val_accuracy: 0.9359 - lr: 1.0000e-06\n",
            "Epoch 75/666\n",
            "39/39 [==============================] - 1s 31ms/step - loss: 0.0575 - accuracy: 0.9904 - val_loss: 0.2356 - val_accuracy: 0.9519 - lr: 1.0000e-06\n",
            "Epoch 76/666\n",
            "39/39 [==============================] - 1s 31ms/step - loss: 0.0580 - accuracy: 0.9936 - val_loss: 0.2444 - val_accuracy: 0.9423 - lr: 1.0000e-06\n",
            "Epoch 77/666\n",
            "39/39 [==============================] - 1s 30ms/step - loss: 0.0476 - accuracy: 0.9968 - val_loss: 0.2664 - val_accuracy: 0.9455 - lr: 1.0000e-06\n",
            "Epoch 77: early stopping\n"
          ]
        }
      ]
    },
    {
      "cell_type": "code",
      "source": [
        "model.summary()"
      ],
      "metadata": {
        "colab": {
          "base_uri": "https://localhost:8080/"
        },
        "id": "BKL3gMiD5oGb",
        "outputId": "5c7a3aaf-f383-4e95-9bdc-307d9ccb6d00"
      },
      "execution_count": 6,
      "outputs": [
        {
          "output_type": "stream",
          "name": "stdout",
          "text": [
            "Model: \"model\"\n",
            "_________________________________________________________________\n",
            " Layer (type)                Output Shape              Param #   \n",
            "=================================================================\n",
            " input_1 (InputLayer)        [(None, 28, 28, 3)]       0         \n",
            "                                                                 \n",
            " separable_conv2d (Separable  (None, 26, 26, 64)       283       \n",
            " Conv2D)                                                         \n",
            "                                                                 \n",
            " max_pooling2d (MaxPooling2D  (None, 13, 13, 64)       0         \n",
            " )                                                               \n",
            "                                                                 \n",
            " separable_conv2d_1 (Separab  (None, 11, 11, 128)      8896      \n",
            " leConv2D)                                                       \n",
            "                                                                 \n",
            " max_pooling2d_1 (MaxPooling  (None, 5, 5, 128)        0         \n",
            " 2D)                                                             \n",
            "                                                                 \n",
            " separable_conv2d_2 (Separab  (None, 4, 4, 256)        33536     \n",
            " leConv2D)                                                       \n",
            "                                                                 \n",
            " global_max_pooling2d (Globa  (None, 256)              0         \n",
            " lMaxPooling2D)                                                  \n",
            "                                                                 \n",
            " dense (Dense)               (None, 256)               65792     \n",
            "                                                                 \n",
            " leaky_re_lu (LeakyReLU)     (None, 256)               0         \n",
            "                                                                 \n",
            " dense_1 (Dense)             (None, 64)                16448     \n",
            "                                                                 \n",
            " leaky_re_lu_1 (LeakyReLU)   (None, 64)                0         \n",
            "                                                                 \n",
            " dense_2 (Dense)             (None, 26)                1690      \n",
            "                                                                 \n",
            "=================================================================\n",
            "Total params: 126,645\n",
            "Trainable params: 126,645\n",
            "Non-trainable params: 0\n",
            "_________________________________________________________________\n"
          ]
        }
      ]
    },
    {
      "cell_type": "code",
      "source": [
        "model = load_model('BrailleNet.h5')\n",
        "acc = model.evaluate_generator(val_generator)[1]\n",
        "print('model accuracy: {}'.format(round(acc,4)))"
      ],
      "metadata": {
        "colab": {
          "base_uri": "https://localhost:8080/"
        },
        "id": "lWnovahv5svg",
        "outputId": "33c2172a-e2b3-49d7-efb1-d42fa4e9c0e0"
      },
      "execution_count": 7,
      "outputs": [
        {
          "output_type": "stream",
          "name": "stderr",
          "text": [
            "<ipython-input-7-11a8187ef6d0>:2: UserWarning: `Model.evaluate_generator` is deprecated and will be removed in a future version. Please use `Model.evaluate`, which supports generators.\n",
            "  acc = model.evaluate_generator(val_generator)[1]\n"
          ]
        },
        {
          "output_type": "stream",
          "name": "stdout",
          "text": [
            "model accuracy: 0.9487\n"
          ]
        }
      ]
    },
    {
      "cell_type": "code",
      "source": [
        "import matplotlib.pyplot as plt\n",
        "plt.plot(history.history['loss'], label='train loss')\n",
        "plt.plot(history.history['val_loss'], label='val loss')\n",
        "plt.legend()\n",
        "plt.show()\n",
        "plt.savefig('LossVal_loss')\n",
        "\n",
        "# plot the accuracy\n",
        "plt.plot(history.history['accuracy'], label='train acc')\n",
        "plt.plot(history.history['val_accuracy'], label='val acc')\n",
        "plt.legend()\n",
        "plt.show()\n",
        "plt.savefig('AccVal_acc')"
      ],
      "metadata": {
        "colab": {
          "base_uri": "https://localhost:8080/",
          "height": 530
        },
        "id": "LB2VB_ND6MAc",
        "outputId": "8d973e75-0726-40c9-99f4-06e348da3405"
      },
      "execution_count": 8,
      "outputs": [
        {
          "output_type": "display_data",
          "data": {
            "text/plain": [
              "<Figure size 432x288 with 1 Axes>"
            ],
            "image/png": "[encoded data removed]"
          },
          "metadata": {
            "needs_background": "light"
          }
        },
        {
          "output_type": "display_data",
          "data": {
            "text/plain": [
              "<Figure size 432x288 with 1 Axes>"
            ],
            "image/png": "[encoded data removed]"
          },
          "metadata": {
            "needs_background": "light"
          }
        },
        {
          "output_type": "display_data",
          "data": {
            "text/plain": [
              "<Figure size 432x288 with 0 Axes>"
            ]
          },
          "metadata": {}
        }
      ]
    },
    {
      "cell_type": "code",
      "source": [
        "from tensorflow.keras.preprocessing import image\n",
        "img=image.load_img('/content/drive/MyDrive/Personal/Main Project/Braille Dataset/j1.JPG3whs.jpg')\n",
        "\n",
        "plt.imshow(img)\n",
        "\n",
        "x=image.img_to_array(img)\n",
        "print(x)\n",
        "\n",
        "print(x.shape)\n",
        "\n",
        "x=np.expand_dims(x,axis=0)\n",
        "model.predict(x)\n",
        "\n",
        "a=np.argmax(model.predict(x), axis=1)\n",
        "\n",
        "if a==0:\n",
        "  print('a')\n",
        "elif a==1:\n",
        "  print('b')\n",
        "elif a==2:\n",
        "  print('c')\n",
        "elif a==3:\n",
        "  print('d')\n",
        "elif a==4:\n",
        "  print('e')\n",
        "elif a==5:\n",
        "  print('f')\n",
        "elif a==6:\n",
        "  print('g')\n",
        "elif a==7:\n",
        "  print('h')\n",
        "elif a==8:\n",
        "  print('i')\n",
        "elif a==9:\n",
        "  print('j')\n",
        "elif a==10:\n",
        "  print('k')\n",
        "elif a==11:\n",
        "  print('l')\n",
        "elif a==12:\n",
        "  print('m')\n",
        "elif a==13:\n",
        "  print('n')\n",
        "elif a==14:\n",
        "  print('o')\n",
        "elif a==15:\n",
        "  print('p')\n",
        "elif a==16:\n",
        "  print('q')\n",
        "elif a==17:\n",
        "  print('r')\n",
        "elif a==18:\n",
        "  print('s')\n",
        "elif a==19:\n",
        "  print('t')\n",
        "elif a==20:\n",
        "  print('u')\n",
        "elif a==21:\n",
        "  print('v')\n",
        "elif a==22:\n",
        "  print('w')\n",
        "elif a==23:\n",
        "  print('x')\n",
        "elif a==24:\n",
        "  print('y')\n",
        "elif a==25:\n",
        "  print('z')\n"
      ],
      "metadata": {
        "colab": {
          "base_uri": "https://localhost:8080/",
          "height": 1000
        },
        "id": "EVi6pqSBKKFp",
        "outputId": "db20ec66-f335-4296-adac-df4f986945ab"
      },
      "execution_count": 18,
      "outputs": [
        {
          "output_type": "stream",
          "name": "stdout",
          "text": [
            "[[[254. 254. 254.]\n",
            "  [255. 255. 255.]\n",
            "  [255. 255. 255.]\n",
            "  ...\n",
            "  [254. 254. 254.]\n",
            "  [255. 255. 255.]\n",
            "  [255. 255. 255.]]\n",
            "\n",
            " [[252. 252. 252.]\n",
            "  [253. 253. 253.]\n",
            "  [254. 254. 254.]\n",
            "  ...\n",
            "  [254. 254. 254.]\n",
            "  [255. 255. 255.]\n",
            "  [255. 255. 255.]]\n",
            "\n",
            " [[255. 255. 255.]\n",
            "  [255. 255. 255.]\n",
            "  [255. 255. 255.]\n",
            "  ...\n",
            "  [254. 254. 254.]\n",
            "  [255. 255. 255.]\n",
            "  [255. 255. 255.]]\n",
            "\n",
            " ...\n",
            "\n",
            " [[255. 255. 255.]\n",
            "  [255. 255. 255.]\n",
            "  [255. 255. 255.]\n",
            "  ...\n",
            "  [255. 255. 255.]\n",
            "  [255. 255. 255.]\n",
            "  [255. 255. 255.]]\n",
            "\n",
            " [[255. 255. 255.]\n",
            "  [255. 255. 255.]\n",
            "  [255. 255. 255.]\n",
            "  ...\n",
            "  [255. 255. 255.]\n",
            "  [255. 255. 255.]\n",
            "  [255. 255. 255.]]\n",
            "\n",
            " [[252. 252. 252.]\n",
            "  [253. 253. 253.]\n",
            "  [253. 253. 253.]\n",
            "  ...\n",
            "  [255. 255. 255.]\n",
            "  [255. 255. 255.]\n",
            "  [255. 255. 255.]]]\n",
            "(28, 28, 3)\n",
            "1/1 [==============================] - 0s 40ms/step\n",
            "1/1 [==============================] - 0s 39ms/step\n",
            "j\n"
          ]
        },
        {
          "output_type": "display_data",
          "data": {
            "text/plain": [
              "<Figure size 432x288 with 1 Axes>"
            ],
            "image/png": "[encoded data removed]"
          },
          "metadata": {
            "needs_background": "light"
          }
        }
      ]
    }
  ]
}