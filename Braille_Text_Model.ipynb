{
  "nbformat": 4,
  "nbformat_minor": 0,
  "metadata": {
    "colab": {
      "provenance": [],
      "mount_file_id": "1hrs6_2jKC_YAIXbyj63qiBM6cN4BrS2x",
      "authorship_tag": "ABX9TyMsptJ15WDxOf17V+fItSFW",
      "include_colab_link": true
    },
    "kernelspec": {
      "name": "python3",
      "display_name": "Python 3"
    },
    "language_info": {
      "name": "python"
    },
    "accelerator": "GPU",
    "gpuClass": "standard"
  },
  "cells": [
    {
      "cell_type": "markdown",
      "metadata": {
        "id": "view-in-github",
        "colab_type": "text"
      },
      "source": [
        "<a href=\"https://colab.research.google.com/github/basilpaul7/Bi-Directional-Braille-Communication/blob/main/Braille_Text_Model.ipynb\" target=\"_parent\"><img src=\"https://colab.research.google.com/assets/colab-badge.svg\" alt=\"Open In Colab\"/></a>"
      ]
    },
    {
      "cell_type": "code",
      "execution_count": 1,
      "metadata": {
        "colab": {
          "base_uri": "https://localhost:8080/"
        },
        "id": "TxlNll2H4Gvv",
        "outputId": "43014dc4-01ce-42ec-e1b9-3554df9d6cf2"
      },
      "outputs": [
        {
          "output_type": "stream",
          "name": "stdout",
          "text": [
            "Drive already mounted at /content/drive; to attempt to forcibly remount, call drive.mount(\"/content/drive\", force_remount=True).\n"
          ]
        }
      ],
      "source": [
        "from google.colab import drive\n",
        "drive.mount('/content/drive')"
      ]
    },
    {
      "cell_type": "code",
      "source": [
        "import os\n",
        "import numpy as np\n",
        "import pandas as pd\n",
        "from shutil import copyfile"
      ],
      "metadata": {
        "id": "VlIYZBGX4bqN"
      },
      "execution_count": 2,
      "outputs": []
    },
    {
      "cell_type": "code",
      "source": [
        "os.mkdir('./images/')\n",
        "alpha = 'a'\n",
        "for i in range(0, 26): \n",
        "    os.mkdir('./images/' + alpha)\n",
        "    alpha = chr(ord(alpha) + 1)\n",
        "\n",
        "rootdir = '/content/drive/MyDrive/Personal/Main Project/Braille Dataset/'\n",
        "for file in os.listdir(rootdir):\n",
        "    letter = file[0]\n",
        "    copyfile(rootdir+file, './images/' + letter + '/' + file)"
      ],
      "metadata": {
        "id": "Jn87mOoM4e70"
      },
      "execution_count": 3,
      "outputs": []
    },
    {
      "cell_type": "code",
      "source": [
        "from keras.preprocessing.image import ImageDataGenerator\n",
        "datagen = ImageDataGenerator(rotation_range=20,\n",
        "                             shear_range=10,\n",
        "                             validation_split=0.2)\n",
        "\n",
        "train_generator = datagen.flow_from_directory('./images/',\n",
        "                                              target_size=(28,28),\n",
        "                                              subset='training')\n",
        "\n",
        "val_generator = datagen.flow_from_directory('./images/',\n",
        "                                            target_size=(28,28),\n",
        "                                            subset='validation')"
      ],
      "metadata": {
        "colab": {
          "base_uri": "https://localhost:8080/"
        },
        "id": "MgtDwpcy49sn",
        "outputId": "2e00e181-3ba2-431a-9ae3-bdb3cf628353"
      },
      "execution_count": 4,
      "outputs": [
        {
          "output_type": "stream",
          "name": "stdout",
          "text": [
            "Found 1248 images belonging to 26 classes.\n",
            "Found 312 images belonging to 26 classes.\n"
          ]
        }
      ]
    },
    {
      "cell_type": "code",
      "source": [
        "from keras import backend as K\n",
        "from keras import layers as L\n",
        "from keras.models import Model,load_model\n",
        "from keras.regularizers import l2\n",
        "from keras.callbacks import ModelCheckpoint,ReduceLROnPlateau,EarlyStopping\n",
        "\n",
        "K.clear_session()\n",
        "\n",
        "model_ckpt = ModelCheckpoint('BrailleNet.h5',save_best_only=True)\n",
        "reduce_lr = ReduceLROnPlateau(patience=8,verbose=0)\n",
        "early_stop = EarlyStopping(patience=15,verbose=1)\n",
        "\n",
        "entry = L.Input(shape=(28,28,3))\n",
        "x = L.SeparableConv2D(64,(3,3),activation='relu')(entry)\n",
        "x = L.MaxPooling2D((2,2))(x)\n",
        "x = L.SeparableConv2D(128,(3,3),activation='relu')(x)\n",
        "x = L.MaxPooling2D((2,2))(x)\n",
        "x = L.SeparableConv2D(256,(2,2),activation='relu')(x)\n",
        "x = L.GlobalMaxPooling2D()(x)\n",
        "x = L.Dense(256)(x)\n",
        "x = L.LeakyReLU()(x)\n",
        "x = L.Dense(64,kernel_regularizer=l2(2e-4))(x)\n",
        "x = L.LeakyReLU()(x)\n",
        "x = L.Dense(26,activation='softmax')(x)\n",
        "\n",
        "model = Model(entry,x)\n",
        "model.compile(loss='categorical_crossentropy',optimizer='adam',metrics=['accuracy'])\n",
        "\n",
        "history = model.fit_generator(train_generator,\n",
        "                              validation_data=val_generator,\n",
        "                              epochs=666,\n",
        "                              callbacks=[model_ckpt,reduce_lr,early_stop],\n",
        "                              verbose=1)"
      ],
      "metadata": {
        "colab": {
          "base_uri": "https://localhost:8080/"
        },
        "id": "-JGlTTYU5Der",
        "outputId": "72ceef28-fb1f-4bd4-993b-f5e4e7668b94"
      },
      "execution_count": 5,
      "outputs": [
        {
          "output_type": "stream",
          "name": "stdout",
          "text": [
            "Epoch 1/666\n"
          ]
        },
        {
          "output_type": "stream",
          "name": "stderr",
          "text": [
            "<ipython-input-5-709140038fe6>:29: UserWarning: `Model.fit_generator` is deprecated and will be removed in a future version. Please use `Model.fit`, which supports generators.\n",
            "  history = model.fit_generator(train_generator,\n"
          ]
        },
        {
          "output_type": "stream",
          "name": "stdout",
          "text": [
            "39/39 [==============================] - 11s 56ms/step - loss: 3.2763 - accuracy: 0.0337 - val_loss: 3.1998 - val_accuracy: 0.0449 - lr: 0.0010\n",
            "Epoch 2/666\n",
            "39/39 [==============================] - 1s 33ms/step - loss: 3.0590 - accuracy: 0.1042 - val_loss: 2.7784 - val_accuracy: 0.1603 - lr: 0.0010\n",
            "Epoch 3/666\n",
            "39/39 [==============================] - 1s 33ms/step - loss: 2.5548 - accuracy: 0.2252 - val_loss: 2.2125 - val_accuracy: 0.3173 - lr: 0.0010\n",
            "Epoch 4/666\n",
            "39/39 [==============================] - 1s 32ms/step - loss: 1.9689 - accuracy: 0.4046 - val_loss: 1.6020 - val_accuracy: 0.5705 - lr: 0.0010\n",
            "Epoch 5/666\n",
            "39/39 [==============================] - 1s 32ms/step - loss: 1.5578 - accuracy: 0.5337 - val_loss: 1.4077 - val_accuracy: 0.6090 - lr: 0.0010\n",
            "Epoch 6/666\n",
            "39/39 [==============================] - 1s 32ms/step - loss: 1.2345 - accuracy: 0.6490 - val_loss: 1.1298 - val_accuracy: 0.6923 - lr: 0.0010\n",
            "Epoch 7/666\n",
            "39/39 [==============================] - 1s 36ms/step - loss: 1.0119 - accuracy: 0.6987 - val_loss: 0.9668 - val_accuracy: 0.7276 - lr: 0.0010\n",
            "Epoch 8/666\n",
            "39/39 [==============================] - 1s 33ms/step - loss: 0.8342 - accuracy: 0.7556 - val_loss: 0.8128 - val_accuracy: 0.7821 - lr: 0.0010\n",
            "Epoch 9/666\n",
            "39/39 [==============================] - 1s 32ms/step - loss: 0.7265 - accuracy: 0.8013 - val_loss: 0.8708 - val_accuracy: 0.7276 - lr: 0.0010\n",
            "Epoch 10/666\n",
            "39/39 [==============================] - 1s 33ms/step - loss: 0.7139 - accuracy: 0.7997 - val_loss: 0.7815 - val_accuracy: 0.7917 - lr: 0.0010\n",
            "Epoch 11/666\n",
            "39/39 [==============================] - 1s 32ms/step - loss: 0.5818 - accuracy: 0.8333 - val_loss: 0.6658 - val_accuracy: 0.8109 - lr: 0.0010\n",
            "Epoch 12/666\n",
            "39/39 [==============================] - 1s 32ms/step - loss: 0.5026 - accuracy: 0.8590 - val_loss: 0.6092 - val_accuracy: 0.8590 - lr: 0.0010\n",
            "Epoch 13/666\n",
            "39/39 [==============================] - 1s 33ms/step - loss: 0.4420 - accuracy: 0.8678 - val_loss: 0.5841 - val_accuracy: 0.8462 - lr: 0.0010\n",
            "Epoch 14/666\n",
            "39/39 [==============================] - 1s 33ms/step - loss: 0.4726 - accuracy: 0.8574 - val_loss: 0.5425 - val_accuracy: 0.8654 - lr: 0.0010\n",
            "Epoch 15/666\n",
            "39/39 [==============================] - 1s 32ms/step - loss: 0.5013 - accuracy: 0.8606 - val_loss: 0.5207 - val_accuracy: 0.8429 - lr: 0.0010\n",
            "Epoch 16/666\n",
            "39/39 [==============================] - 1s 32ms/step - loss: 0.3441 - accuracy: 0.9030 - val_loss: 0.5756 - val_accuracy: 0.8365 - lr: 0.0010\n",
            "Epoch 17/666\n",
            "39/39 [==============================] - 1s 32ms/step - loss: 0.3644 - accuracy: 0.8958 - val_loss: 0.4995 - val_accuracy: 0.8750 - lr: 0.0010\n",
            "Epoch 18/666\n",
            "39/39 [==============================] - 1s 33ms/step - loss: 0.2729 - accuracy: 0.9303 - val_loss: 0.3540 - val_accuracy: 0.9103 - lr: 0.0010\n",
            "Epoch 19/666\n",
            "39/39 [==============================] - 1s 31ms/step - loss: 0.3392 - accuracy: 0.9014 - val_loss: 0.4904 - val_accuracy: 0.8910 - lr: 0.0010\n",
            "Epoch 20/666\n",
            "39/39 [==============================] - 1s 32ms/step - loss: 0.3467 - accuracy: 0.8926 - val_loss: 0.5022 - val_accuracy: 0.8622 - lr: 0.0010\n",
            "Epoch 21/666\n",
            "39/39 [==============================] - 1s 32ms/step - loss: 0.3326 - accuracy: 0.8998 - val_loss: 0.2965 - val_accuracy: 0.9391 - lr: 0.0010\n",
            "Epoch 22/666\n",
            "39/39 [==============================] - 1s 32ms/step - loss: 0.2469 - accuracy: 0.9351 - val_loss: 0.3929 - val_accuracy: 0.8942 - lr: 0.0010\n",
            "Epoch 23/666\n",
            "39/39 [==============================] - 1s 30ms/step - loss: 0.2533 - accuracy: 0.9255 - val_loss: 0.3593 - val_accuracy: 0.9103 - lr: 0.0010\n",
            "Epoch 24/666\n",
            "39/39 [==============================] - 1s 31ms/step - loss: 0.1767 - accuracy: 0.9559 - val_loss: 0.3834 - val_accuracy: 0.9199 - lr: 0.0010\n",
            "Epoch 25/666\n",
            "39/39 [==============================] - 1s 31ms/step - loss: 0.1996 - accuracy: 0.9439 - val_loss: 0.3326 - val_accuracy: 0.9038 - lr: 0.0010\n",
            "Epoch 26/666\n",
            "39/39 [==============================] - 1s 31ms/step - loss: 0.2221 - accuracy: 0.9447 - val_loss: 0.4684 - val_accuracy: 0.8910 - lr: 0.0010\n",
            "Epoch 27/666\n",
            "39/39 [==============================] - 1s 31ms/step - loss: 0.2135 - accuracy: 0.9351 - val_loss: 0.3611 - val_accuracy: 0.8942 - lr: 0.0010\n",
            "Epoch 28/666\n",
            "39/39 [==============================] - 1s 32ms/step - loss: 0.1975 - accuracy: 0.9431 - val_loss: 0.2906 - val_accuracy: 0.9455 - lr: 0.0010\n",
            "Epoch 29/666\n",
            "39/39 [==============================] - 1s 31ms/step - loss: 0.1981 - accuracy: 0.9415 - val_loss: 0.4298 - val_accuracy: 0.9071 - lr: 0.0010\n",
            "Epoch 30/666\n",
            "39/39 [==============================] - 1s 31ms/step - loss: 0.2126 - accuracy: 0.9455 - val_loss: 0.3196 - val_accuracy: 0.9199 - lr: 0.0010\n",
            "Epoch 31/666\n",
            "39/39 [==============================] - 1s 30ms/step - loss: 0.2086 - accuracy: 0.9479 - val_loss: 0.4403 - val_accuracy: 0.9295 - lr: 0.0010\n",
            "Epoch 32/666\n",
            "39/39 [==============================] - 1s 32ms/step - loss: 0.1799 - accuracy: 0.9511 - val_loss: 0.4173 - val_accuracy: 0.8750 - lr: 0.0010\n",
            "Epoch 33/666\n",
            "39/39 [==============================] - 1s 30ms/step - loss: 0.3083 - accuracy: 0.9215 - val_loss: 0.3429 - val_accuracy: 0.9199 - lr: 0.0010\n",
            "Epoch 34/666\n",
            "39/39 [==============================] - 1s 32ms/step - loss: 0.1850 - accuracy: 0.9551 - val_loss: 0.2333 - val_accuracy: 0.9551 - lr: 0.0010\n",
            "Epoch 35/666\n",
            "39/39 [==============================] - 1s 31ms/step - loss: 0.1343 - accuracy: 0.9696 - val_loss: 0.3046 - val_accuracy: 0.9359 - lr: 0.0010\n",
            "Epoch 36/666\n",
            "39/39 [==============================] - 1s 31ms/step - loss: 0.1854 - accuracy: 0.9455 - val_loss: 0.4582 - val_accuracy: 0.8718 - lr: 0.0010\n",
            "Epoch 37/666\n",
            "39/39 [==============================] - 1s 30ms/step - loss: 0.1987 - accuracy: 0.9519 - val_loss: 0.2844 - val_accuracy: 0.9391 - lr: 0.0010\n",
            "Epoch 38/666\n",
            "39/39 [==============================] - 1s 32ms/step - loss: 0.1879 - accuracy: 0.9407 - val_loss: 0.2549 - val_accuracy: 0.9359 - lr: 0.0010\n",
            "Epoch 39/666\n",
            "39/39 [==============================] - 1s 31ms/step - loss: 0.1553 - accuracy: 0.9615 - val_loss: 0.3467 - val_accuracy: 0.9327 - lr: 0.0010\n",
            "Epoch 40/666\n",
            "39/39 [==============================] - 1s 31ms/step - loss: 0.1185 - accuracy: 0.9728 - val_loss: 0.2992 - val_accuracy: 0.9391 - lr: 0.0010\n",
            "Epoch 41/666\n",
            "39/39 [==============================] - 2s 43ms/step - loss: 0.1182 - accuracy: 0.9696 - val_loss: 0.2385 - val_accuracy: 0.9295 - lr: 0.0010\n",
            "Epoch 42/666\n",
            "39/39 [==============================] - 2s 39ms/step - loss: 0.1152 - accuracy: 0.9704 - val_loss: 0.3318 - val_accuracy: 0.9263 - lr: 0.0010\n",
            "Epoch 43/666\n",
            "39/39 [==============================] - 1s 32ms/step - loss: 0.0959 - accuracy: 0.9832 - val_loss: 0.2187 - val_accuracy: 0.9615 - lr: 1.0000e-04\n",
            "Epoch 44/666\n",
            "39/39 [==============================] - 1s 32ms/step - loss: 0.0628 - accuracy: 0.9896 - val_loss: 0.1787 - val_accuracy: 0.9551 - lr: 1.0000e-04\n",
            "Epoch 45/666\n",
            "39/39 [==============================] - 1s 32ms/step - loss: 0.0743 - accuracy: 0.9840 - val_loss: 0.2070 - val_accuracy: 0.9583 - lr: 1.0000e-04\n",
            "Epoch 46/666\n",
            "39/39 [==============================] - 1s 31ms/step - loss: 0.0712 - accuracy: 0.9856 - val_loss: 0.1983 - val_accuracy: 0.9615 - lr: 1.0000e-04\n",
            "Epoch 47/666\n",
            "39/39 [==============================] - 1s 31ms/step - loss: 0.0700 - accuracy: 0.9872 - val_loss: 0.2064 - val_accuracy: 0.9487 - lr: 1.0000e-04\n",
            "Epoch 48/666\n",
            "39/39 [==============================] - 1s 31ms/step - loss: 0.0526 - accuracy: 0.9936 - val_loss: 0.2082 - val_accuracy: 0.9583 - lr: 1.0000e-04\n",
            "Epoch 49/666\n",
            "39/39 [==============================] - 1s 33ms/step - loss: 0.0584 - accuracy: 0.9904 - val_loss: 0.2010 - val_accuracy: 0.9647 - lr: 1.0000e-04\n",
            "Epoch 50/666\n",
            "39/39 [==============================] - 2s 42ms/step - loss: 0.0647 - accuracy: 0.9912 - val_loss: 0.1987 - val_accuracy: 0.9647 - lr: 1.0000e-04\n",
            "Epoch 51/666\n",
            "39/39 [==============================] - 2s 50ms/step - loss: 0.0677 - accuracy: 0.9888 - val_loss: 0.1781 - val_accuracy: 0.9744 - lr: 1.0000e-04\n",
            "Epoch 52/666\n",
            "39/39 [==============================] - 1s 31ms/step - loss: 0.0639 - accuracy: 0.9880 - val_loss: 0.2223 - val_accuracy: 0.9551 - lr: 1.0000e-04\n",
            "Epoch 53/666\n",
            "39/39 [==============================] - 1s 31ms/step - loss: 0.0716 - accuracy: 0.9864 - val_loss: 0.1931 - val_accuracy: 0.9583 - lr: 1.0000e-04\n",
            "Epoch 54/666\n",
            "39/39 [==============================] - 1s 32ms/step - loss: 0.0553 - accuracy: 0.9912 - val_loss: 0.1642 - val_accuracy: 0.9712 - lr: 1.0000e-04\n",
            "Epoch 55/666\n",
            "39/39 [==============================] - 1s 32ms/step - loss: 0.0541 - accuracy: 0.9920 - val_loss: 0.2123 - val_accuracy: 0.9455 - lr: 1.0000e-04\n",
            "Epoch 56/666\n",
            "39/39 [==============================] - 1s 33ms/step - loss: 0.0608 - accuracy: 0.9880 - val_loss: 0.1551 - val_accuracy: 0.9615 - lr: 1.0000e-04\n",
            "Epoch 57/666\n",
            "39/39 [==============================] - 1s 30ms/step - loss: 0.0623 - accuracy: 0.9920 - val_loss: 0.1938 - val_accuracy: 0.9615 - lr: 1.0000e-04\n",
            "Epoch 58/666\n",
            "39/39 [==============================] - 1s 30ms/step - loss: 0.0534 - accuracy: 0.9912 - val_loss: 0.1844 - val_accuracy: 0.9647 - lr: 1.0000e-04\n",
            "Epoch 59/666\n",
            "39/39 [==============================] - 1s 32ms/step - loss: 0.0544 - accuracy: 0.9936 - val_loss: 0.2137 - val_accuracy: 0.9583 - lr: 1.0000e-04\n",
            "Epoch 60/666\n",
            "39/39 [==============================] - 1s 31ms/step - loss: 0.0666 - accuracy: 0.9912 - val_loss: 0.1604 - val_accuracy: 0.9583 - lr: 1.0000e-04\n",
            "Epoch 61/666\n",
            "39/39 [==============================] - 1s 31ms/step - loss: 0.0567 - accuracy: 0.9912 - val_loss: 0.1949 - val_accuracy: 0.9712 - lr: 1.0000e-04\n",
            "Epoch 62/666\n",
            "39/39 [==============================] - 1s 31ms/step - loss: 0.0466 - accuracy: 0.9960 - val_loss: 0.2015 - val_accuracy: 0.9583 - lr: 1.0000e-04\n",
            "Epoch 63/666\n",
            "39/39 [==============================] - 1s 31ms/step - loss: 0.0573 - accuracy: 0.9888 - val_loss: 0.2071 - val_accuracy: 0.9647 - lr: 1.0000e-04\n",
            "Epoch 64/666\n",
            "39/39 [==============================] - 1s 31ms/step - loss: 0.0521 - accuracy: 0.9920 - val_loss: 0.2183 - val_accuracy: 0.9647 - lr: 1.0000e-04\n",
            "Epoch 65/666\n",
            "39/39 [==============================] - 1s 31ms/step - loss: 0.0517 - accuracy: 0.9920 - val_loss: 0.1775 - val_accuracy: 0.9679 - lr: 1.0000e-05\n",
            "Epoch 66/666\n",
            "39/39 [==============================] - 1s 30ms/step - loss: 0.0471 - accuracy: 0.9944 - val_loss: 0.2105 - val_accuracy: 0.9583 - lr: 1.0000e-05\n",
            "Epoch 67/666\n",
            "39/39 [==============================] - 1s 32ms/step - loss: 0.0505 - accuracy: 0.9952 - val_loss: 0.1470 - val_accuracy: 0.9712 - lr: 1.0000e-05\n",
            "Epoch 68/666\n",
            "39/39 [==============================] - 1s 31ms/step - loss: 0.0457 - accuracy: 0.9936 - val_loss: 0.1515 - val_accuracy: 0.9712 - lr: 1.0000e-05\n",
            "Epoch 69/666\n",
            "39/39 [==============================] - 1s 31ms/step - loss: 0.0458 - accuracy: 0.9952 - val_loss: 0.1889 - val_accuracy: 0.9583 - lr: 1.0000e-05\n",
            "Epoch 70/666\n",
            "39/39 [==============================] - 1s 31ms/step - loss: 0.0443 - accuracy: 0.9952 - val_loss: 0.1668 - val_accuracy: 0.9776 - lr: 1.0000e-05\n",
            "Epoch 71/666\n",
            "39/39 [==============================] - 1s 35ms/step - loss: 0.0430 - accuracy: 0.9952 - val_loss: 0.2016 - val_accuracy: 0.9583 - lr: 1.0000e-05\n",
            "Epoch 72/666\n",
            "39/39 [==============================] - 2s 43ms/step - loss: 0.0546 - accuracy: 0.9944 - val_loss: 0.1689 - val_accuracy: 0.9712 - lr: 1.0000e-05\n",
            "Epoch 73/666\n",
            "39/39 [==============================] - 1s 31ms/step - loss: 0.0464 - accuracy: 0.9952 - val_loss: 0.1750 - val_accuracy: 0.9615 - lr: 1.0000e-05\n",
            "Epoch 74/666\n",
            "39/39 [==============================] - 1s 31ms/step - loss: 0.0597 - accuracy: 0.9912 - val_loss: 0.1543 - val_accuracy: 0.9679 - lr: 1.0000e-05\n",
            "Epoch 75/666\n",
            "39/39 [==============================] - 1s 32ms/step - loss: 0.0487 - accuracy: 0.9952 - val_loss: 0.1434 - val_accuracy: 0.9712 - lr: 1.0000e-05\n",
            "Epoch 76/666\n",
            "39/39 [==============================] - 1s 30ms/step - loss: 0.0468 - accuracy: 0.9944 - val_loss: 0.2231 - val_accuracy: 0.9583 - lr: 1.0000e-05\n",
            "Epoch 77/666\n",
            "39/39 [==============================] - 1s 31ms/step - loss: 0.0438 - accuracy: 0.9944 - val_loss: 0.1467 - val_accuracy: 0.9712 - lr: 1.0000e-05\n",
            "Epoch 78/666\n",
            "39/39 [==============================] - 1s 32ms/step - loss: 0.0482 - accuracy: 0.9936 - val_loss: 0.2281 - val_accuracy: 0.9615 - lr: 1.0000e-05\n",
            "Epoch 79/666\n",
            "39/39 [==============================] - 1s 31ms/step - loss: 0.0586 - accuracy: 0.9904 - val_loss: 0.1486 - val_accuracy: 0.9647 - lr: 1.0000e-05\n",
            "Epoch 80/666\n",
            "39/39 [==============================] - 1s 30ms/step - loss: 0.0403 - accuracy: 0.9976 - val_loss: 0.1869 - val_accuracy: 0.9647 - lr: 1.0000e-05\n",
            "Epoch 81/666\n",
            "39/39 [==============================] - 1s 31ms/step - loss: 0.0492 - accuracy: 0.9936 - val_loss: 0.1838 - val_accuracy: 0.9679 - lr: 1.0000e-05\n",
            "Epoch 82/666\n",
            "39/39 [==============================] - 1s 33ms/step - loss: 0.0515 - accuracy: 0.9928 - val_loss: 0.2027 - val_accuracy: 0.9551 - lr: 1.0000e-05\n",
            "Epoch 83/666\n",
            "39/39 [==============================] - 1s 32ms/step - loss: 0.0473 - accuracy: 0.9944 - val_loss: 0.2067 - val_accuracy: 0.9615 - lr: 1.0000e-05\n",
            "Epoch 84/666\n",
            "39/39 [==============================] - 1s 32ms/step - loss: 0.0470 - accuracy: 0.9960 - val_loss: 0.1886 - val_accuracy: 0.9647 - lr: 1.0000e-06\n",
            "Epoch 85/666\n",
            "39/39 [==============================] - 1s 32ms/step - loss: 0.0417 - accuracy: 0.9968 - val_loss: 0.1833 - val_accuracy: 0.9679 - lr: 1.0000e-06\n",
            "Epoch 86/666\n",
            "39/39 [==============================] - 1s 32ms/step - loss: 0.0564 - accuracy: 0.9944 - val_loss: 0.1826 - val_accuracy: 0.9615 - lr: 1.0000e-06\n",
            "Epoch 87/666\n",
            "39/39 [==============================] - 1s 31ms/step - loss: 0.0485 - accuracy: 0.9928 - val_loss: 0.1455 - val_accuracy: 0.9744 - lr: 1.0000e-06\n",
            "Epoch 88/666\n",
            "39/39 [==============================] - 1s 32ms/step - loss: 0.0555 - accuracy: 0.9920 - val_loss: 0.1952 - val_accuracy: 0.9647 - lr: 1.0000e-06\n",
            "Epoch 89/666\n",
            "39/39 [==============================] - 1s 32ms/step - loss: 0.0418 - accuracy: 0.9968 - val_loss: 0.2033 - val_accuracy: 0.9583 - lr: 1.0000e-06\n",
            "Epoch 90/666\n",
            "39/39 [==============================] - 1s 32ms/step - loss: 0.0474 - accuracy: 0.9944 - val_loss: 0.2055 - val_accuracy: 0.9551 - lr: 1.0000e-06\n",
            "Epoch 90: early stopping\n"
          ]
        }
      ]
    },
    {
      "cell_type": "code",
      "source": [
        "model.summary()"
      ],
      "metadata": {
        "colab": {
          "base_uri": "https://localhost:8080/"
        },
        "id": "BKL3gMiD5oGb",
        "outputId": "ec24e0cc-4210-4d31-f478-8f3739bc5f5b"
      },
      "execution_count": 6,
      "outputs": [
        {
          "output_type": "stream",
          "name": "stdout",
          "text": [
            "Model: \"model\"\n",
            "_________________________________________________________________\n",
            " Layer (type)                Output Shape              Param #   \n",
            "=================================================================\n",
            " input_1 (InputLayer)        [(None, 28, 28, 3)]       0         \n",
            "                                                                 \n",
            " separable_conv2d (Separable  (None, 26, 26, 64)       283       \n",
            " Conv2D)                                                         \n",
            "                                                                 \n",
            " max_pooling2d (MaxPooling2D  (None, 13, 13, 64)       0         \n",
            " )                                                               \n",
            "                                                                 \n",
            " separable_conv2d_1 (Separab  (None, 11, 11, 128)      8896      \n",
            " leConv2D)                                                       \n",
            "                                                                 \n",
            " max_pooling2d_1 (MaxPooling  (None, 5, 5, 128)        0         \n",
            " 2D)                                                             \n",
            "                                                                 \n",
            " separable_conv2d_2 (Separab  (None, 4, 4, 256)        33536     \n",
            " leConv2D)                                                       \n",
            "                                                                 \n",
            " global_max_pooling2d (Globa  (None, 256)              0         \n",
            " lMaxPooling2D)                                                  \n",
            "                                                                 \n",
            " dense (Dense)               (None, 256)               65792     \n",
            "                                                                 \n",
            " leaky_re_lu (LeakyReLU)     (None, 256)               0         \n",
            "                                                                 \n",
            " dense_1 (Dense)             (None, 64)                16448     \n",
            "                                                                 \n",
            " leaky_re_lu_1 (LeakyReLU)   (None, 64)                0         \n",
            "                                                                 \n",
            " dense_2 (Dense)             (None, 26)                1690      \n",
            "                                                                 \n",
            "=================================================================\n",
            "Total params: 126,645\n",
            "Trainable params: 126,645\n",
            "Non-trainable params: 0\n",
            "_________________________________________________________________\n"
          ]
        }
      ]
    },
    {
      "cell_type": "code",
      "source": [
        "model = load_model('BrailleNet.h5')\n",
        "acc = model.evaluate_generator(val_generator)[1]\n",
        "print('model accuracy: {}'.format(round(acc,4)))"
      ],
      "metadata": {
        "colab": {
          "base_uri": "https://localhost:8080/"
        },
        "id": "lWnovahv5svg",
        "outputId": "f307c32d-1f35-4731-cc90-bc1b13147100"
      },
      "execution_count": 7,
      "outputs": [
        {
          "output_type": "stream",
          "name": "stderr",
          "text": [
            "<ipython-input-7-11a8187ef6d0>:2: UserWarning: `Model.evaluate_generator` is deprecated and will be removed in a future version. Please use `Model.evaluate`, which supports generators.\n",
            "  acc = model.evaluate_generator(val_generator)[1]\n"
          ]
        },
        {
          "output_type": "stream",
          "name": "stdout",
          "text": [
            "model accuracy: 0.9679\n"
          ]
        }
      ]
    },
    {
      "cell_type": "code",
      "source": [
        "import matplotlib.pyplot as plt\n",
        "plt.plot(history.history['loss'], label='train loss')\n",
        "plt.plot(history.history['val_loss'], label='val loss')\n",
        "plt.legend()\n",
        "plt.show()\n",
        "plt.savefig('LossVal_loss')\n",
        "\n",
        "# plot the accuracy\n",
        "plt.plot(history.history['accuracy'], label='train acc')\n",
        "plt.plot(history.history['val_accuracy'], label='val acc')\n",
        "plt.legend()\n",
        "plt.show()\n",
        "plt.savefig('AccVal_acc')"
      ],
      "metadata": {
        "colab": {
          "base_uri": "https://localhost:8080/",
          "height": 530
        },
        "id": "LB2VB_ND6MAc",
        "outputId": "34db6674-5655-4d57-e00c-4b733658d5f7"
      },
      "execution_count": 8,
      "outputs": [
        {
          "output_type": "display_data",
          "data": {
            "text/plain": [
              "<Figure size 432x288 with 1 Axes>"
            ],
            "image/png": "[encoded data removed]"
          },
          "metadata": {
            "needs_background": "light"
          }
        },
        {
          "output_type": "display_data",
          "data": {
            "text/plain": [
              "<Figure size 432x288 with 1 Axes>"
            ],
            "image/png": "[encoded data removed]"
          },
          "metadata": {
            "needs_background": "light"
          }
        },
        {
          "output_type": "display_data",
          "data": {
            "text/plain": [
              "<Figure size 432x288 with 0 Axes>"
            ]
          },
          "metadata": {}
        }
      ]
    },
    {
      "cell_type": "code",
      "source": [
        "from tensorflow.keras.preprocessing import image\n",
        "img=image.load_img('/content/drive/MyDrive/Personal/Main Project/Braille Dataset/c1.JPG3dim.jpg')\n",
        "\n",
        "plt.imshow(img)\n",
        "\n",
        "x=image.img_to_array(img)\n",
        "print(x)\n",
        "\n",
        "print(x.shape)\n",
        "\n",
        "x=np.expand_dims(x,axis=0)\n",
        "model.predict(x)\n",
        "\n",
        "a=int(np.argmax(model.predict(x), axis=1))\n",
        "\n",
        "print(chr(ord('`')+a+1))\n"
      ],
      "metadata": {
        "colab": {
          "base_uri": "https://localhost:8080/",
          "height": 1000
        },
        "id": "EVi6pqSBKKFp",
        "outputId": "9f82821a-ad8e-4500-b8e3-db2f6fc7afbd"
      },
      "execution_count": 11,
      "outputs": [
        {
          "output_type": "stream",
          "name": "stdout",
          "text": [
            "[[[147. 147. 147.]\n",
            "  [135. 135. 135.]\n",
            "  [140. 140. 140.]\n",
            "  ...\n",
            "  [138. 138. 138.]\n",
            "  [137. 137. 137.]\n",
            "  [138. 138. 138.]]\n",
            "\n",
            " [[129. 129. 129.]\n",
            "  [143. 143. 143.]\n",
            "  [139. 139. 139.]\n",
            "  ...\n",
            "  [148. 148. 148.]\n",
            "  [137. 137. 137.]\n",
            "  [134. 134. 134.]]\n",
            "\n",
            " [[148. 148. 148.]\n",
            "  [116. 116. 116.]\n",
            "  [112. 112. 112.]\n",
            "  ...\n",
            "  [137. 137. 137.]\n",
            "  [139. 139. 139.]\n",
            "  [136. 136. 136.]]\n",
            "\n",
            " ...\n",
            "\n",
            " [[140. 140. 140.]\n",
            "  [140. 140. 140.]\n",
            "  [139. 139. 139.]\n",
            "  ...\n",
            "  [141. 141. 141.]\n",
            "  [141. 141. 141.]\n",
            "  [141. 141. 141.]]\n",
            "\n",
            " [[141. 141. 141.]\n",
            "  [142. 142. 142.]\n",
            "  [142. 142. 142.]\n",
            "  ...\n",
            "  [141. 141. 141.]\n",
            "  [141. 141. 141.]\n",
            "  [141. 141. 141.]]\n",
            "\n",
            " [[140. 140. 140.]\n",
            "  [140. 140. 140.]\n",
            "  [140. 140. 140.]\n",
            "  ...\n",
            "  [141. 141. 141.]\n",
            "  [141. 141. 141.]\n",
            "  [141. 141. 141.]]]\n",
            "(28, 28, 3)\n",
            "1/1 [==============================] - 0s 19ms/step\n",
            "1/1 [==============================] - 0s 15ms/step\n",
            "c\n"
          ]
        },
        {
          "output_type": "display_data",
          "data": {
            "text/plain": [
              "<Figure size 432x288 with 1 Axes>"
            ],
            "image/png": "[encoded data removed]"
          },
          "metadata": {
            "needs_background": "light"
          }
        }
      ]
    }
  ]
}